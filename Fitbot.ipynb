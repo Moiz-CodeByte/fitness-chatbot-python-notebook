{
  "nbformat": 4,
  "nbformat_minor": 0,
  "metadata": {
    "colab": {
      "provenance": [],
      "include_colab_link": true
    },
    "kernelspec": {
      "name": "python3",
      "display_name": "Python 3"
    },
    "language_info": {
      "name": "python"
    }
  },
  "cells": [
    {
      "cell_type": "markdown",
      "metadata": {
        "id": "view-in-github",
        "colab_type": "text"
      },
      "source": [
        "<a href=\"https://colab.research.google.com/github/Moiz-CodeByte/fitness-chatbot-python-notebook/blob/main/Fitbot.ipynb\" target=\"_parent\"><img src=\"https://colab.research.google.com/assets/colab-badge.svg\" alt=\"Open In Colab\"/></a>"
      ]
    },
    {
      "cell_type": "markdown",
      "source": [
        "# **FitBot – Fitness Asistant!**\n",
        "\n",
        "This project is a rule-based fitness chatbot named FitBot, created using Python and the nltk.chat.util module. FitBot helps users with common fitness-related questions, including workout tips, diet advice, motivation, and general health support.\n",
        "\n",
        "It uses pattern-matching rules (regex-based) and a lightweight built-in reflection dictionary to respond interactively. The chatbot can be run directly inside a Google Colab, making it easy to experiment, learn, and customize.\n",
        "\n",
        "**🎯 Use Cases:**\n",
        "\n",
        "*  Personal fitness assistant\n",
        "*  Beginner NLP project\n",
        "*  Motivational chatbot for workouts\n",
        "*  Diet and supplement Q&A tool"
      ],
      "metadata": {
        "id": "D3enieP8xMXV"
      }
    },
    {
      "cell_type": "markdown",
      "source": [
        "📦 **Import Required Modules**\n",
        "\n",
        "We only use Chat and reflections from the NLTK library to build the chatbot."
      ],
      "metadata": {
        "id": "L1EgxAwQXvqR"
      }
    },
    {
      "cell_type": "code",
      "source": [
        "from nltk.chat.util import Chat, reflections"
      ],
      "metadata": {
        "id": "gXunJ2c-X1yG"
      },
      "execution_count": 1,
      "outputs": []
    },
    {
      "cell_type": "markdown",
      "source": [
        "📚 **Define Fitness Conversation Rules**\n",
        "\n",
        "This section defines pairs – a list of regular expression patterns and their associated responses. These rules allow the chatbot to match user input and provide relevant answers about fitness, workouts, nutrition, and more."
      ],
      "metadata": {
        "id": "yQ8xTL8fX8PK"
      }
    },
    {
      "cell_type": "code",
      "source": [
        "fitness_pairs = [\n",
        "    # Greetings\n",
        "    [r\"(hi|hello|hey|holla|hola)\", [\"Hello! I'm your fitness assistant. How can I help you today? 💪\"]],\n",
        "    [r\"(good morning|good afternoon|good evening)\", [\"Hey there! Ready to crush your fitness goals? 🌟\"]],\n",
        "\n",
        "    # Help\n",
        "    [r\"(.*)(help|assist|support)(.*)\", [\"Sure, I can help with workouts, diet, supplements, and more. What do you need?\"]],\n",
        "\n",
        "    # Weight loss\n",
        "    [r\"(.*)(lose weight|burn fat|fat loss)(.*)\", [\"For fat loss, do cardio 3–5x/week, eat clean, and maintain a calorie deficit.\"]],\n",
        "    [r\"(.*)(best cardio|fat burning exercises)(.*)\", [\"Try HIIT, cycling, brisk walking, or swimming. Consistency is key.\"]],\n",
        "    [r\"(.*)(stubborn belly fat)(.*)\", [\"Targeted fat loss isn't possible, but total body fat loss helps. Add core work for strength.\"]],\n",
        "\n",
        "    # Muscle gain\n",
        "    [r\"(.*)(gain muscle|muscle building|bulk up|gain weight)(.*)\", [\"Lift heavy, eat surplus calories, get 1g protein per pound of body weight.\"]],\n",
        "    [r\"(.*)(bulking diet|muscle diet|gain)(.*)\", [\"Eat calorie-dense meals: oats, peanut butter, whole milk, eggs, and chicken.\"]],\n",
        "    [r\"(.*)(reps and sets|how many sets)(.*)\", [\"3–5 sets of 8–12 reps is ideal for hypertrophy (muscle growth).\"]],\n",
        "\n",
        "    # Gym anxiety / beginner\n",
        "    [r\"(.*)(gym anxiety|shy|nervous|first time)(.*)\", [\"Start with a plan, go during off-peak hours, and remember — everyone starts somewhere!\"]],\n",
        "    [r\"(.*)(beginner workout|just starting)(.*)\", [\"Begin with full-body workouts 3x/week and master form before increasing weight.\"]],\n",
        "\n",
        "    # Home workouts\n",
        "    [r\"(.*)(home workout|no equipment)(.*)\", [\"Try push-ups, squats, planks, lunges, and jumping jacks. Want a 20-min routine?\"]],\n",
        "\n",
        "    # Workout timing\n",
        "    [r\"(.*)(when to workout|best time to workout)(.*)\", [\"Morning workouts boost energy, evening allows for better strength. Do what suits your schedule.\"]],\n",
        "    [r\"(.*)(should I workout every day|daily workout)(.*)\", [\"Rest days are important! Aim for 3–5 workout days per week.\"]],\n",
        "\n",
        "    # Warm-up and cooldown\n",
        "    [r\"(.*)(warm up|cool down)(.*)\", [\"Always warm up 5–10 mins (light cardio + mobility), and stretch after to prevent soreness.\"]],\n",
        "\n",
        "    # Tracking progress\n",
        "    [r\"(.*)(track progress|how to track)(.*)\", [\"Use progress pics, measurements, strength gains, and how your clothes fit.\"]],\n",
        "    [r\"(.*)(scale isn't moving)(.*)\", [\"Don't rely only on weight — you might be gaining muscle and losing fat.\"]],\n",
        "\n",
        "    # Meal timing\n",
        "    [r\"(.*)(when to eat|meal timing|before workout|after workout)(.*)\", [\"Have a carb+protein meal 1–2 hrs before, and protein after your workout.\"]],\n",
        "\n",
        "    # Cravings\n",
        "    [r\"(.*)(cravings|sugar|junk food)(.*)\", [\"Stay hydrated, eat more protein and fiber, and allow small treats in moderation.\"]],\n",
        "\n",
        "    # BMI and metrics\n",
        "    [r\"(.*)(BMI|body mass index|healthy weight)(.*)\", [\"BMI gives a general idea, but body fat % and strength are more important.\"]],\n",
        "\n",
        "    # Female-specific fitness\n",
        "    [r\"(.*)(female|women workout|girls exercise)(.*)\", [\"Women benefit from resistance training just like men. It won’t make you bulky.\"]],\n",
        "    [r\"(.*)(period|menstruation workout)(.*)\", [\"Listen to your body. Light exercise can help relieve cramps and boost mood.\"]],\n",
        "\n",
        "    # Body types\n",
        "    [r\"(.*)(ectomorph|mesomorph|endomorph)(.*)\", [\"These body types guide how you might eat/train. Want advice based on your type?\"]],\n",
        "\n",
        "    # Supplements\n",
        "    [r\"(.*)(supplements|protein powder|creatine|vitamins)(.*)\", [\"Supplements help, but real food comes first. Use whey, creatine, and omega-3s if needed.\"]],\n",
        "\n",
        "    # Overtraining / burnout\n",
        "    [r\"(.*)(overtrain|too much|burned out|exhausted)(.*)\", [\"Rest is part of the process. Take a break, sleep well, and reduce volume.\"]],\n",
        "\n",
        "    # Motivation\n",
        "    [r\"(.*)(motivation|i feel lazy|don't feel like it)(.*)\", [\"Discipline over motivation. Start small — even 10 mins counts! 🔥\"]],\n",
        "    [r\"(.*)(how to stay motivated)(.*)\", [\"Track your progress, join a community, and remind yourself of your 'why'. 💯\"]],\n",
        "\n",
        "    # Goodbye / thanks\n",
        "    [r\"(.*)(thank you|thanks|appreciate)(.*)\", [\"You're welcome! Keep pushing! 💪\"]],\n",
        "    [r\"(.*)(bye|goodbye|exit|quit)\", [\"Goodbye! Stay fit, stay happy! 👋\"]],\n",
        "\n",
        "    # Default fallback\n",
        "     [r\"(.*)\", [\"I'm not sure about that. Ask me something about fitness, workouts, diet, or motivation! 💬\"]]\n",
        "]"
      ],
      "metadata": {
        "id": "Bf1Jxp-tYFsT"
      },
      "execution_count": 6,
      "outputs": []
    },
    {
      "cell_type": "markdown",
      "source": [
        "**🔄Reflections (Optional Customization)**\n",
        "\n",
        "NLTK provides a simple reflections dictionary to convert user inputs like \"I\" → \"you\". This helps make chatbot replies sound more natural."
      ],
      "metadata": {
        "id": "dEayJozZevQA"
      }
    },
    {
      "cell_type": "code",
      "source": [
        "print(reflections)\n"
      ],
      "metadata": {
        "id": "iGmceYIseuri"
      },
      "execution_count": null,
      "outputs": []
    },
    {
      "cell_type": "markdown",
      "source": [
        "**🤖 Start the Chatbot**\n",
        "\n",
        "This block initiates the FitBot and lets you chat interactively. Type fitness questions and get helpful responses. To exit, just type bye, quit, or exit.\n",
        "\n"
      ],
      "metadata": {
        "id": "eAQ3_sHid1nB"
      }
    },
    {
      "cell_type": "code",
      "source": [
        "\n",
        "# Create chatbot\n",
        "fitness_bot = Chat(fitness_pairs, reflections)\n",
        "\n",
        "# Start chatting\n",
        "print(\"Hi! I'm FitBot 🤖. Ask me anything about fitness. Type 'bye' to exit.\\n\")\n",
        "fitness_bot.converse()"
      ],
      "metadata": {
        "colab": {
          "base_uri": "https://localhost:8080/"
        },
        "id": "n4xCt42J2h4M",
        "outputId": "9782fd74-ce9e-406c-db39-041308c723e5"
      },
      "execution_count": null,
      "outputs": [
        {
          "output_type": "stream",
          "name": "stdout",
          "text": [
            "Hi! I'm FitBot 🤖. Ask me anything about fitness. Type 'bye' to exit.\n",
            "\n",
            ">gain weight\n",
            "Lift heavy, eat surplus calories, get 1g protein per pound of body weight.\n"
          ]
        }
      ]
    }
  ]
}