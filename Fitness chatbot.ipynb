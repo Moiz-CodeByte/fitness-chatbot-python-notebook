{
  "nbformat": 4,
  "nbformat_minor": 0,
  "metadata": {
    "colab": {
      "provenance": [],
      "include_colab_link": true
    },
    "kernelspec": {
      "name": "python3",
      "display_name": "Python 3"
    },
    "language_info": {
      "name": "python"
    }
  },
  "cells": [
    {
      "cell_type": "markdown",
      "metadata": {
        "id": "view-in-github",
        "colab_type": "text"
      },
      "source": [
        "<a href=\"https://colab.research.google.com/github/Moiz-CodeByte/fitness-chatbot-python-notebook/blob/main/Fitness%20chatbot.ipynb\" target=\"_parent\"><img src=\"https://colab.research.google.com/assets/colab-badge.svg\" alt=\"Open In Colab\"/></a>"
      ]
    },
    {
      "cell_type": "markdown",
      "source": [
        "# **Welcome to CareBot — Your Healthcare Assistant!**\n",
        "\n",
        "This chatbot offers helpful tips and answers to common health questions using simple, rule-based responses.\n",
        "Type your health-related questions below and get instant advice.\n",
        "Feel free to ask about symptoms, wellness tips, or general healthcare information.\n",
        "Let’s keep you informed and healthy!"
      ],
      "metadata": {
        "id": "D3enieP8xMXV"
      }
    },
    {
      "cell_type": "markdown",
      "source": [
        "**Import Required Modules**\n",
        "\n",
        "This block imports the essential components from the NLTK library that help us build a rule-based chatbot.\n",
        "We use Chat to handle the conversation and reflections to make replies more human-like by flipping words like \"I\" to \"you\"."
      ],
      "metadata": {
        "id": "L1EgxAwQXvqR"
      }
    },
    {
      "cell_type": "code",
      "source": [
        "from nltk.chat.util import Chat, reflections\n",
        "import ipywidgets as widgets\n",
        "from IPython.display import display, clear_output"
      ],
      "metadata": {
        "id": "gXunJ2c-X1yG"
      },
      "execution_count": null,
      "outputs": []
    },
    {
      "cell_type": "markdown",
      "source": [
        "**Define Chatbot Responses for Healthcare Topics**\n",
        "\n",
        "In this block, we create a list of patterns and responses using regular expressions (regex).\n",
        "Each pattern checks for specific keywords like “fever”, “diet”, “stress” etc., and gives a suitable health-related reply."
      ],
      "metadata": {
        "id": "yQ8xTL8fX8PK"
      }
    },
    {
      "cell_type": "code",
      "source": [
        "health_pairs = [\n",
        "    [r\"(.*)my name is (.*)\", [\"Hello %2, how can I assist you today regarding your health?\"]],\n",
        "     [r\"(hi|hello|hey)(.*)\", [\"Hello! How can I assist you with your health?\"]],\n",
        "    [r\"(.*)(fever|temperature)(.*)\", [\"It's best to stay hydrated and rest. If fever continues, consult a doctor.\"]],\n",
        "    [r\"(.*)(stomach|abdomen)(.*)(pain|ache)\", [\"Stomach pain can have many causes. Please monitor and consult a physician.\"]],\n",
        "    [r\"(.*)(medicine|tablet|pill)(.*)\", [\"Only take medicine prescribed by a healthcare professional.\"]],\n",
        "    [r\"(.*)(mental|stress|anxiety)(.*)\", [\"It's important to relax. Try breathing exercises or speak to a counselor.\"]],\n",
        "    [r\"(.*)(blood pressure|bp)(.*)\", [\"Maintain a low-salt diet and monitor your blood pressure regularly.\"]],\n",
        "    [r\"(.*)(covid|corona)(.*)\", [\"Please wear a mask, maintain distance, and watch for symptoms like cough or fever.\"]],\n",
        "    [r\"(hi|hello|hey)\", [\"Hello! I'm here to help with your health-related queries.\"]],\n",
        "    [r\"(.*)(diet|nutrition|food)(.*)\", [\"A healthy diet includes fruits, vegetables, protein, and water.\"]],\n",
        "    [r\"(.*)(bye|exit|quit)\", [\"Take care! Wishing you good health.\"]],\n",
        "    [r\"(.*)\", [\"I'm not sure about that. Can you ask something related to health?\"]],\n",
        "]\n"
      ],
      "metadata": {
        "id": "Bf1Jxp-tYFsT"
      },
      "execution_count": null,
      "outputs": []
    },
    {
      "cell_type": "markdown",
      "source": [
        "**Setup Chatbot Interface**\n",
        "\n",
        "This block initializes the health chatbot and creates interactive widgets: a text input, an output display, and a send button. When you type a question and press send, the bot replies and shows the conversation. Typing \"quit\" ends the chat and disables input. A welcome message is also displayed.\n",
        "\n"
      ],
      "metadata": {
        "id": "eAQ3_sHid1nB"
      }
    },
    {
      "cell_type": "code",
      "source": [
        "print(\"👋 Hi, I'm CareBot – your digital health assistant.\")\n",
        "print(\"Type your health question in lowercase English.\")\n",
        "print(\"Type 'quit' to end the chat.\\n\")\n",
        "\n",
        "# Create chatbot and start conversation\n",
        "chatbot = Chat(health_pairs, reflections)\n",
        "chatbot.converse()\n"
      ],
      "metadata": {
        "colab": {
          "base_uri": "https://localhost:8080/",
          "height": 0
        },
        "id": "n4xCt42J2h4M",
        "outputId": "7a65923b-5718-418b-a8c7-b7f269aec4d4"
      },
      "execution_count": null,
      "outputs": [
        {
          "metadata": {
            "tags": null
          },
          "name": "stdout",
          "output_type": "stream",
          "text": [
            "👋 Hi, I'm CareBot – your digital health assistant.\n",
            "Type your health question in lowercase English.\n",
            "Type 'quit' to end the chat.\n",
            "\n"
          ]
        }
      ]
    }
  ]
}